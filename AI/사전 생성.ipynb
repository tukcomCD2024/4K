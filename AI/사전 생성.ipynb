{
 "cells": [
  {
   "cell_type": "code",
   "execution_count": 1,
   "metadata": {},
   "outputs": [],
   "source": [
    "import pandas as pd\n",
    "import numpy as np\n",
    "import os\n",
    "import json\n",
    "import csv\n",
    "\n",
    "TL_sentence_path = r'C:\\Users\\edcrf\\sentence_dataTL.csv'\n",
    "VL_sentence_path = r'C:\\Users\\edcrf\\sentence_dataVL.csv'\n",
    "\n",
    "# data파일 불러오기\n",
    "TL_sentence_data = pd.read_csv(TL_sentence_path, encoding='utf-8')\n",
    "VL_sentence_data = pd.read_csv(VL_sentence_path, encoding='utf-8')\n",
    "\n",
    "# 중복 제거, Pronuncication 열은 필요 없다고 생각\n",
    "TL_sentence_data.drop('Pronunciation', axis=1, inplace=True)\n",
    "TL_sentence_data = TL_sentence_data.drop_duplicates().reset_index(drop=True)\n",
    "VL_sentence_data.drop('Pronunciation', axis=1, inplace=True)\n",
    "VL_sentence_data = VL_sentence_data.drop_duplicates().reset_index(drop=True)"
   ]
  },
  {
   "cell_type": "code",
   "execution_count": 2,
   "metadata": {},
   "outputs": [
    {
     "name": "stdout",
     "output_type": "stream",
     "text": [
      "323371 44584 367955\n"
     ]
    }
   ],
   "source": [
    "all_sentences = TL_sentence_data.append(VL_sentence_data, ignore_index=True)\n",
    "print(len(TL_sentence_data), len(VL_sentence_data), len(all_sentences))"
   ]
  },
  {
   "cell_type": "code",
   "execution_count": 3,
   "metadata": {},
   "outputs": [],
   "source": [
    "from tqdm import tqdm\n",
    "\n",
    "# 형태소 분석기로 Okt를 사용\n",
    "import konlpy\n",
    "from konlpy.tag import Kkma, Komoran, Okt, Hannanum\n",
    "okt = Okt()\n",
    "\n",
    "standard_sentences = all_sentences['Standard']\n",
    "dialect_sentences = all_sentences['Dialect']"
   ]
  },
  {
   "cell_type": "code",
   "execution_count": null,
   "metadata": {},
   "outputs": [],
   "source": [
    "# 방언 문장과 표준어 문장 각각 형태소 분석 진행\n",
    "standard_okt = []\n",
    "dialect_okt = []\n",
    "\n",
    "# stop_words = ['이', '에', '는', '가', '도', '을', '뭐', '은','하고','게','에는','그', '를', '것', '으로','로']\n",
    "\n",
    "for i in tqdm(range(0, len(all_sentences))):\n",
    "    standard_tokens = [(token, pos) for token, pos in okt.pos(standard_sentences[i])]\n",
    "    dialect_tokens = [(token, pos) for token, pos in okt.pos(dialect_sentences[i])]\n",
    "    standard_okt.append(standard_tokens)\n",
    "    dialect_okt.append(dialect_tokens)"
   ]
  },
  {
   "cell_type": "code",
   "execution_count": 5,
   "metadata": {},
   "outputs": [
    {
     "data": {
      "text/plain": [
       "[('내일', 'Noun'),\n",
       " ('잔치', 'Noun'),\n",
       " ('가', 'Josa'),\n",
       " ('있어서', 'Adjective'),\n",
       " ('날', 'Noun'),\n",
       " ('이', 'Josa'),\n",
       " ('많이', 'Adverb'),\n",
       " ('추우면', 'Verb'),\n",
       " ('안', 'Noun'),\n",
       " ('될텐데', 'Verb'),\n",
       " ('내일', 'Noun'),\n",
       " ('많이', 'Adverb'),\n",
       " ('춥다', 'Noun'),\n",
       " ('하더냐', 'Verb')]"
      ]
     },
     "execution_count": 5,
     "metadata": {},
     "output_type": "execute_result"
    }
   ],
   "source": [
    "standard_okt[50]"
   ]
  },
  {
   "cell_type": "code",
   "execution_count": 6,
   "metadata": {},
   "outputs": [
    {
     "data": {
      "text/plain": [
       "[('내일', 'Noun'),\n",
       " ('잔치', 'Noun'),\n",
       " ('가', 'Josa'),\n",
       " ('있어가', 'Adjective'),\n",
       " ('날', 'Noun'),\n",
       " ('이', 'Josa'),\n",
       " ('마이', 'Noun'),\n",
       " ('추', 'Noun'),\n",
       " ('우마', 'Noun'),\n",
       " ('안', 'Noun'),\n",
       " ('델낀디', 'Noun'),\n",
       " ('내일', 'Noun'),\n",
       " ('많이', 'Adverb'),\n",
       " ('춥다', 'Noun'),\n",
       " ('카더', 'Noun'),\n",
       " ('나', 'Josa')]"
      ]
     },
     "execution_count": 6,
     "metadata": {},
     "output_type": "execute_result"
    }
   ],
   "source": [
    "dialect_okt[50]"
   ]
  },
  {
   "cell_type": "code",
   "execution_count": 7,
   "metadata": {},
   "outputs": [],
   "source": [
    "# 토큰화된 방언 문장과 표준어 문장을 각각 csv파일로 저장\n",
    "with open('standard_okt_data.csv', 'w', encoding='utf-8', newline='') as f:\n",
    "    writer = csv.writer(f)\n",
    "    writer.writerows(standard_okt)\n",
    "\n",
    "with open('dialect_okt_data.csv', 'w', encoding='utf-8', newline='') as f:\n",
    "    writer = csv.writer(f)\n",
    "    writer.writerows(dialect_okt)"
   ]
  },
  {
   "cell_type": "code",
   "execution_count": 74,
   "metadata": {},
   "outputs": [],
   "source": [
    "# # csv저장을 위해 리스트를 DataFrame으로 변환\n",
    "# standard_okt_df = pd.DataFrame(standard_okt)\n",
    "# dialect_okt_df = pd.DataFrame(dialect_okt)\n",
    "\n",
    "# standard_okt_df.to_csv(r'C:\\Users\\edcrf\\standard_okt.csv', index=False, sep =',')\n",
    "# dialect_okt_df.to_csv(r'C:\\Users\\edcrf\\dialect_okt.csv', index=False, sep =',')"
   ]
  },
  {
   "cell_type": "code",
   "execution_count": null,
   "metadata": {},
   "outputs": [],
   "source": [
    "# # csv파일로 저장한 토큰화된 결과 불러오기\n",
    "# standard_okt_data = pd.read_csv(r'C:\\Users\\edcrf\\standard_okt.csv')\n",
    "# dialect_okt_data = pd.read_csv(r'C:\\Users\\edcrf\\dialect_okt.csv')"
   ]
  },
  {
   "cell_type": "code",
   "execution_count": 4,
   "metadata": {},
   "outputs": [],
   "source": [
    "# 저장된 토큰화 데이터 불러오기\n",
    "standard_okt_data = []\n",
    "dialect_okt_data = []\n",
    "\n",
    "with open('standard_okt_data.csv', 'r', encoding='utf-8') as f:\n",
    "    reader = csv.reader(f)\n",
    "    for row in reader:\n",
    "        standard_okt_data.append(row)\n",
    "\n",
    "with open('dialect_okt_data.csv', 'r', encoding='utf-8') as f:\n",
    "    reader = csv.reader(f)\n",
    "    for row in reader:\n",
    "        dialect_okt_data.append(row)"
   ]
  },
  {
   "cell_type": "code",
   "execution_count": null,
   "metadata": {},
   "outputs": [],
   "source": [
    "# standard_okt_data"
   ]
  },
  {
   "cell_type": "code",
   "execution_count": 21,
   "metadata": {},
   "outputs": [
    {
     "data": {
      "image/png": "[encoded data removed]",
      "text/plain": [
       "<Figure size 640x480 with 1 Axes>"
      ]
     },
     "metadata": {},
     "output_type": "display_data"
    }
   ],
   "source": [
    "# 방언 문장의 길이와 그 길이에 해당되는 문장의 수\n",
    "import matplotlib\n",
    "import matplotlib.pyplot as plt\n",
    "\n",
    "plt.hist([len(sentence) for sentence in dialect_okt_data], bins=10)\n",
    "plt.xlabel('length of dialect')\n",
    "plt.ylabel('number of dialect')\n",
    "plt.show()"
   ]
  },
  {
   "cell_type": "code",
   "execution_count": 6,
   "metadata": {},
   "outputs": [
    {
     "data": {
      "image/png": "[encoded data removed]",
      "text/plain": [
       "<Figure size 640x480 with 1 Axes>"
      ]
     },
     "metadata": {},
     "output_type": "display_data"
    }
   ],
   "source": [
    "# 표준어 문장의 길이와 그 길이에 해당되는 문장의 수\n",
    "\n",
    "plt.hist([len(sentence) for sentence in standard_okt_data], bins=10)\n",
    "plt.xlabel('length of standard')\n",
    "plt.ylabel('number of standard')\n",
    "plt.show()"
   ]
  },
  {
   "cell_type": "code",
   "execution_count": 5,
   "metadata": {},
   "outputs": [],
   "source": [
    "# 최대 길이로 모든 문장의 길이를 패딩하면 규모가 너무 커짐\n",
    "### 함수 선언\n",
    "def threshold_len_80(max_len, data):\n",
    "    sentence_count=0\n",
    "    for sentence in data:\n",
    "        if(len(sentence) <= max_len):\n",
    "            sentence_count += 1\n",
    "    return sentence_count/len(data)*100"
   ]
  },
  {
   "cell_type": "code",
   "execution_count": 55,
   "metadata": {},
   "outputs": [
    {
     "name": "stdout",
     "output_type": "stream",
     "text": [
      "dialect 중 40 이하인 비율은 90.59586090690438\n",
      "standard 중 40 이하인 비율은 90.97253740267152\n"
     ]
    }
   ],
   "source": [
    "dialect_max_len = 40\n",
    "dialect_ratio = threshold_len_80(dialect_max_len, dialect_okt_data)\n",
    "\n",
    "standard_max_len = 40\n",
    "standard_ratio = threshold_len_80(standard_max_len, standard_okt_data)\n",
    "\n",
    "print(f\"dialect 중 {dialect_max_len} 이하인 비율은 {dialect_ratio}\")\n",
    "print(f\"standard 중 {standard_max_len} 이하인 비율은 {standard_ratio}\")\n",
    "\n",
    "s_filtered_indices = [i for i, text in enumerate(standard_okt_data) if len(text) < 40]\n",
    "d_filtered_indices = [i for i, text in enumerate(dialect_okt_data) if len(text) < 40]\n",
    "indices = list(set(s_filtered_indices) & set(d_filtered_indices))"
   ]
  },
  {
   "cell_type": "code",
   "execution_count": 58,
   "metadata": {},
   "outputs": [
    {
     "name": "stdout",
     "output_type": "stream",
     "text": [
      "331084\n",
      "332747\n",
      "331215\n"
     ]
    }
   ],
   "source": [
    "print(len(indices))\n",
    "print(len(s_filtered_indices))\n",
    "print(len(d_filtered_indices))"
   ]
  },
  {
   "cell_type": "code",
   "execution_count": 10,
   "metadata": {},
   "outputs": [],
   "source": [
    "# filtered_dialect_data = []\n",
    "# for text in dialect_okt_data:\n",
    "#     if len(text) < 50:\n",
    "#         filtered_dialect_data.append(text)\n",
    "#     else:\n",
    "#         pass "
   ]
  },
  {
   "cell_type": "code",
   "execution_count": 59,
   "metadata": {},
   "outputs": [
    {
     "name": "stderr",
     "output_type": "stream",
     "text": [
      "100%|██████████| 367955/367955 [06:22<00:00, 962.95it/s] \n",
      "100%|██████████| 367955/367955 [06:26<00:00, 951.14it/s] \n"
     ]
    }
   ],
   "source": [
    "from tqdm import tqdm\n",
    "\n",
    "filtered_standard_data = []\n",
    "for i in tqdm(range(len(standard_okt_data))):\n",
    "    if i in indices:\n",
    "        filtered_standard_data.append(standard_okt_data[i])\n",
    "\n",
    "filtered_dialect_data = []\n",
    "for i in tqdm(range(len(dialect_okt_data))):\n",
    "    if i in indices:\n",
    "        filtered_dialect_data.append(dialect_okt_data[i])\n"
   ]
  },
  {
   "cell_type": "code",
   "execution_count": 60,
   "metadata": {},
   "outputs": [
    {
     "data": {
      "text/plain": [
       "331084"
      ]
     },
     "execution_count": 60,
     "metadata": {},
     "output_type": "execute_result"
    }
   ],
   "source": [
    "len(filtered_standard_data)"
   ]
  },
  {
   "cell_type": "code",
   "execution_count": 61,
   "metadata": {},
   "outputs": [
    {
     "data": {
      "text/plain": [
       "331084"
      ]
     },
     "execution_count": 61,
     "metadata": {},
     "output_type": "execute_result"
    }
   ],
   "source": [
    "len(filtered_dialect_data)"
   ]
  },
  {
   "cell_type": "code",
   "execution_count": 62,
   "metadata": {},
   "outputs": [
    {
     "data": {
      "image/png": "[encoded data removed]",
      "text/plain": [
       "<Figure size 640x480 with 1 Axes>"
      ]
     },
     "metadata": {},
     "output_type": "display_data"
    }
   ],
   "source": [
    "plt.hist([len(sentence) for sentence in filtered_standard_data], bins=10)\n",
    "plt.xlabel('length of standard')\n",
    "plt.ylabel('number of standard')\n",
    "plt.show()"
   ]
  },
  {
   "cell_type": "code",
   "execution_count": 63,
   "metadata": {},
   "outputs": [
    {
     "data": {
      "image/png": "[encoded data removed]",
      "text/plain": [
       "<Figure size 640x480 with 1 Axes>"
      ]
     },
     "metadata": {},
     "output_type": "display_data"
    }
   ],
   "source": [
    "plt.hist([len(sentence) for sentence in filtered_dialect_data], bins=10)\n",
    "plt.xlabel('length of dialect')\n",
    "plt.ylabel('number of dialect')\n",
    "plt.show()"
   ]
  },
  {
   "cell_type": "code",
   "execution_count": null,
   "metadata": {},
   "outputs": [],
   "source": [
    "filtered_dialect_data"
   ]
  },
  {
   "cell_type": "code",
   "execution_count": 64,
   "metadata": {},
   "outputs": [],
   "source": [
    "from gensim.models import Word2Vec\n",
    "import matplotlib.pyplot as plt"
   ]
  },
  {
   "cell_type": "code",
   "execution_count": 65,
   "metadata": {},
   "outputs": [],
   "source": [
    "dialect_word2vec = Word2Vec(sentences=filtered_dialect_data, vector_size=100, min_count=1, window=5, workers=4)\n",
    "standard_word2vec = Word2Vec(sentences=filtered_standard_data, vector_size=100, min_count=1, window=5, workers=4)\n",
    "\n",
    "dialect_word2vec.save(\"dialect_word2vec.bin\")\n",
    "standard_word2vec.save(\"standard_word2vec.bin\")"
   ]
  },
  {
   "cell_type": "code",
   "execution_count": 66,
   "metadata": {},
   "outputs": [],
   "source": [
    "# 방언 문장의 토큰과 표준어 문장의 토큰 저장\n",
    "dialect_tokens = []\n",
    "standard_tokens = []\n",
    "\n",
    "for i in range(0, len(filtered_dialect_data)):\n",
    "    for standard_word in filtered_standard_data[i]:\n",
    "        standard_tokens.append(standard_word)\n",
    "    \n",
    "    for dialect_word in filtered_dialect_data[i]:\n",
    "        dialect_tokens.append(dialect_word)"
   ]
  },
  {
   "cell_type": "code",
   "execution_count": 67,
   "metadata": {},
   "outputs": [],
   "source": [
    "# 각 리스트에서 중복을 제거\n",
    "unique_standard_tokens = []\n",
    "unique_dialect_tokens = []\n",
    "seen1 = set()\n",
    "seen2 = set()\n",
    "\n",
    "for word in standard_tokens:\n",
    "    if word not in seen1:\n",
    "        unique_standard_tokens.append(word)\n",
    "        seen1.add(word)\n",
    "\n",
    "for word in dialect_tokens:\n",
    "    if word not in seen2:\n",
    "        unique_dialect_tokens.append(word)\n",
    "        seen2.add(word)\n"
   ]
  },
  {
   "cell_type": "code",
   "execution_count": 68,
   "metadata": {},
   "outputs": [
    {
     "name": "stdout",
     "output_type": "stream",
     "text": [
      "중복 제거 전 토큰 수 >> standard: 5330978, dialect: 5583280\n",
      "중복 제거 후 토큰 수 >> standard: 81882, dialect: 100844\n"
     ]
    }
   ],
   "source": [
    "print(f\"중복 제거 전 토큰 수 >> standard: {len(standard_tokens)}, dialect: {len(dialect_tokens)}\")\n",
    "print(f\"중복 제거 후 토큰 수 >> standard: {len(unique_standard_tokens)}, dialect: {len(unique_dialect_tokens)}\")"
   ]
  },
  {
   "cell_type": "code",
   "execution_count": 69,
   "metadata": {},
   "outputs": [
    {
     "name": "stdout",
     "output_type": "stream",
     "text": [
      "10914258\n"
     ]
    }
   ],
   "source": [
    "tokens = standard_tokens + dialect_tokens\n",
    "\n",
    "print(len(tokens))"
   ]
  },
  {
   "cell_type": "code",
   "execution_count": 70,
   "metadata": {},
   "outputs": [],
   "source": [
    "all_tokens = standard_tokens + dialect_tokens\n",
    "\n",
    "unique_all_tokens = []\n",
    "seen3 = set()\n",
    "\n",
    "for word in all_tokens:\n",
    "    if word not in seen3:\n",
    "        unique_all_tokens.append(word)\n",
    "        seen3.add(word)"
   ]
  },
  {
   "cell_type": "code",
   "execution_count": 71,
   "metadata": {},
   "outputs": [
    {
     "name": "stdout",
     "output_type": "stream",
     "text": [
      "중복 제거 전 방언과 표준어의 토큰 합친 수: 10914258\n",
      "중복 제거 후 방언과 표준어의 토큰 합친 수: 108342\n"
     ]
    }
   ],
   "source": [
    "print(f\"중복 제거 전 방언과 표준어의 토큰 합친 수: {len(all_tokens)}\")\n",
    "print(f\"중복 제거 후 방언과 표준어의 토큰 합친 수: {len(unique_all_tokens)}\")"
   ]
  },
  {
   "cell_type": "markdown",
   "metadata": {},
   "source": [
    "## 불용어 제거하지 않았을 때\n",
    "### 중복 제거 x -> standard: 6536600, dialect: 6794654\n",
    "##### => 전체 토큰 수: 13331254\n",
    "### 중복 제거 o -> standard: 91751, dialect: 111884\n",
    "##### => 전체 토큰 수(중복 제거 x): 13331254, (중복 제거 o): 120152"
   ]
  },
  {
   "cell_type": "markdown",
   "metadata": {},
   "source": [
    "---"
   ]
  },
  {
   "cell_type": "markdown",
   "metadata": {},
   "source": [
    "## 불용어 제거했을 때\n",
    "### 중복 제거 x -> standard: 5250260, dialect: 5467840\n",
    "##### => 전체 토큰 수: 10718100\n",
    "### 중복 제거 o -> standard: 91735, dialect: 111868\n",
    "##### => 전체 토큰 수(중복 제거 x): 10718100, (중복 제거 o): 120136"
   ]
  },
  {
   "cell_type": "code",
   "execution_count": 72,
   "metadata": {},
   "outputs": [
    {
     "name": "stdout",
     "output_type": "stream",
     "text": [
      "108342\n"
     ]
    }
   ],
   "source": [
    "from collections import Counter\n",
    "\n",
    "# 중복을 하나도 제거하지 않았을 때의 단어 빈도수를 계산\n",
    "word_counts = Counter(tokens)\n",
    "\n",
    "# 빈도수 높은 순서대로 정렬\n",
    "sorted_word = sorted(word_counts, key=word_counts.get, reverse=True)\n",
    "\n",
    "print(len(sorted_word))"
   ]
  },
  {
   "cell_type": "code",
   "execution_count": 73,
   "metadata": {},
   "outputs": [
    {
     "data": {
      "text/plain": [
       "[\"('에', 'Josa')\",\n",
       " \"('이', 'Josa')\",\n",
       " \"('는', 'Josa')\",\n",
       " \"('가', 'Josa')\",\n",
       " \"('도', 'Josa')\",\n",
       " \"('을', 'Josa')\",\n",
       " \"('은', 'Josa')\",\n",
       " \"('뭐', 'Noun')\",\n",
       " \"('안', 'Noun')\",\n",
       " \"('를', 'Josa')\",\n",
       " \"('거', 'Noun')\",\n",
       " \"('때', 'Noun')\",\n",
       " \"('많이', 'Adverb')\",\n",
       " \"('그', 'Noun')\",\n",
       " \"('들', 'Suffix')\",\n",
       " \"('고', 'Josa')\",\n",
       " \"('것', 'Noun')\",\n",
       " \"('또', 'Noun')\",\n",
       " \"('우리', 'Noun')\",\n",
       " \"('좀', 'Noun')\"]"
      ]
     },
     "execution_count": 73,
     "metadata": {},
     "output_type": "execute_result"
    }
   ],
   "source": [
    "sorted_word[:20]"
   ]
  },
  {
   "cell_type": "code",
   "execution_count": 26,
   "metadata": {},
   "outputs": [],
   "source": [
    "### 단어 빈도수가 높은 것들을 출력해보니 방언과 표준어의 관계와 전혀 관련없는 조사들이 많이 포함됨\n",
    "### 따라서 불용어 처리를 통해 제거가 필요함\n",
    "# stop_words = ['이', '에', '는', '가', '도', '을', '뭐', '은','하고','게','에는','그', '를', '것', '으로','로']"
   ]
  },
  {
   "cell_type": "code",
   "execution_count": 74,
   "metadata": {},
   "outputs": [],
   "source": [
    "word_to_id = {word: index + 1 for index, word in enumerate(unique_all_tokens)}\n",
    "id_to_word = {index: word for word, index in word_to_id.items()}"
   ]
  },
  {
   "cell_type": "code",
   "execution_count": 75,
   "metadata": {},
   "outputs": [
    {
     "name": "stdout",
     "output_type": "stream",
     "text": [
      "108342\n",
      "108342\n"
     ]
    }
   ],
   "source": [
    "print(len(word_to_id))\n",
    "print(len(id_to_word))\n",
    "\n",
    "## all_tokens를 이용했을 때와\n",
    "## unique_all_tokens 이요했ㅇ을 때 비교"
   ]
  },
  {
   "cell_type": "code",
   "execution_count": 76,
   "metadata": {},
   "outputs": [],
   "source": [
    "# word_to_id csv로 저장\n",
    "with open('word_to_id.csv', 'w', newline='', encoding='utf-8') as csvfile:\n",
    "    writer = csv.writer(csvfile)\n",
    "    for word, idx in word_to_id.items():\n",
    "        writer.writerow([word, idx])\n",
    "\n",
    "# id_to_word csv로 저장\n",
    "with open('id_to_word.csv', 'w', newline='', encoding='utf-8') as csvfile:\n",
    "    writer = csv.writer(csvfile)\n",
    "    for idx, word in id_to_word.items():\n",
    "        writer.writerow([idx, word])"
   ]
  },
  {
   "cell_type": "code",
   "execution_count": 77,
   "metadata": {},
   "outputs": [],
   "source": [
    "# 방언과 표준어 문장을 정수 인덱스로 변환\n",
    "dialect_indices = [[word_to_id[token] for token in tokens] for tokens in filtered_dialect_data]\n",
    "standard_indices = [[word_to_id[token] for token in tokens] for tokens in filtered_standard_data]"
   ]
  },
  {
   "cell_type": "code",
   "execution_count": 78,
   "metadata": {},
   "outputs": [
    {
     "data": {
      "text/plain": [
       "[12, 13, 14, 15, 16, 17, 1735, 19, 20, 17, 21, 1020, 1489, 745, 746, 1024]"
      ]
     },
     "execution_count": 78,
     "metadata": {},
     "output_type": "execute_result"
    }
   ],
   "source": [
    "dialect_indices[1]"
   ]
  },
  {
   "cell_type": "code",
   "execution_count": 79,
   "metadata": {},
   "outputs": [
    {
     "name": "stdout",
     "output_type": "stream",
     "text": [
      "dialect 최대 길이: 39, standard 최대 길이: 39\n"
     ]
    }
   ],
   "source": [
    "# 방언과 표준어 문장에서 최대 길이를 찾음 => 패딩을 적용하기 위해\n",
    "max_dialect_length = max(len(sentence) for sentence in dialect_indices)\n",
    "max_standard_length = max(len(sentence) for sentence in standard_indices)\n",
    "\n",
    "print(f\"dialect 최대 길이: {max_dialect_length}, standard 최대 길이: {max_standard_length}\")"
   ]
  },
  {
   "cell_type": "code",
   "execution_count": 80,
   "metadata": {},
   "outputs": [
    {
     "name": "stdout",
     "output_type": "stream",
     "text": [
      "dialect 평균 길이: 16.863635814476083, standard 평균 길이: 16.101587512534582\n"
     ]
    }
   ],
   "source": [
    "# 방언과 표준어 문장의 평균 길이를 계산\n",
    "avg_dialect_length = sum(len(sentence) for sentence in dialect_indices) / len(dialect_indices)\n",
    "avg_standard_length = sum(len(sentence) for sentence in standard_indices) / len(standard_indices)\n",
    "\n",
    "print(f\"dialect 평균 길이: {avg_dialect_length}, standard 평균 길이: {avg_standard_length}\")"
   ]
  },
  {
   "cell_type": "code",
   "execution_count": 81,
   "metadata": {},
   "outputs": [
    {
     "data": {
      "image/png": "[encoded data removed]",
      "text/plain": [
       "<Figure size 640x480 with 1 Axes>"
      ]
     },
     "metadata": {},
     "output_type": "display_data"
    }
   ],
   "source": [
    "# 방언 문장의 길이와 그 길이에 해당되는 문장의 수\n",
    "import matplotlib\n",
    "import matplotlib.pyplot as plt\n",
    "\n",
    "plt.hist([len(sentence) for sentence in dialect_indices], bins=10)\n",
    "plt.xlabel('length of dialect')\n",
    "plt.ylabel('number of dialect')\n",
    "plt.show()"
   ]
  },
  {
   "cell_type": "code",
   "execution_count": 82,
   "metadata": {},
   "outputs": [
    {
     "data": {
      "image/png": "[encoded data removed]",
      "text/plain": [
       "<Figure size 640x480 with 1 Axes>"
      ]
     },
     "metadata": {},
     "output_type": "display_data"
    }
   ],
   "source": [
    "# 표준어 문장의 길이와 그 길이에 해당되는 문장의 수\n",
    "plt.hist([len(sentence) for sentence in standard_indices], bins=10)\n",
    "plt.xlabel('length of standard')\n",
    "plt.ylabel('number of standard')\n",
    "plt.show()"
   ]
  },
  {
   "cell_type": "code",
   "execution_count": 18,
   "metadata": {},
   "outputs": [],
   "source": [
    "# # 최대 길이로 모든 문장의 길이를 패딩하면 규모가 너무 커짐\n",
    "# ### 함수 선언\n",
    "# def threshold_len_80(max_len, data):\n",
    "#     sentence_count=0\n",
    "#     for sentence in data:\n",
    "#         if(len(sentence) <= max_len):\n",
    "#             sentence_count += 1\n",
    "#     return sentence_count/len(data)*100"
   ]
  },
  {
   "cell_type": "code",
   "execution_count": null,
   "metadata": {},
   "outputs": [],
   "source": [
    "# dialect_max_len = 50\n",
    "# dialect_ratio = threshold_len_80(dialect_max_len, dialect_indices)\n",
    "\n",
    "# standard_max_len = 50\n",
    "# standard_ratio = threshold_len_80(standard_max_len, standard_indices)\n",
    "\n",
    "# print(f\"dialect 중 {dialect_max_len} 이하인 비율은 {dialect_ratio}\")\n",
    "# print(f\"standard 중 {standard_max_len} 이하인 비율은 {standard_ratio}\")"
   ]
  },
  {
   "cell_type": "code",
   "execution_count": 47,
   "metadata": {},
   "outputs": [
    {
     "data": {
      "text/plain": [
       "list"
      ]
     },
     "execution_count": 47,
     "metadata": {},
     "output_type": "execute_result"
    }
   ],
   "source": [
    "type(standard_indices)"
   ]
  },
  {
   "cell_type": "code",
   "execution_count": null,
   "metadata": {},
   "outputs": [],
   "source": [
    "standard_indices"
   ]
  },
  {
   "cell_type": "code",
   "execution_count": null,
   "metadata": {},
   "outputs": [],
   "source": [
    "dialect_indices"
   ]
  },
  {
   "cell_type": "code",
   "execution_count": 22,
   "metadata": {},
   "outputs": [],
   "source": [
    "filtered_standard_indices = []\n",
    "for text in standard_indices:\n",
    "    if len(text) < 50:\n",
    "        filtered_standard_indices.append(text)\n",
    "    else:\n",
    "        pass "
   ]
  },
  {
   "cell_type": "code",
   "execution_count": 24,
   "metadata": {},
   "outputs": [
    {
     "data": {
      "text/plain": [
       "347963"
      ]
     },
     "execution_count": 24,
     "metadata": {},
     "output_type": "execute_result"
    }
   ],
   "source": [
    "len(filtered_standard_indices)"
   ]
  },
  {
   "cell_type": "code",
   "execution_count": 55,
   "metadata": {},
   "outputs": [],
   "source": [
    "# filtered_dialect_indices = []\n",
    "# for text in dialect_indices:\n",
    "#     if len(text) < 50:\n",
    "#         filtered_dialect_indices.append(text)\n",
    "#     else:\n",
    "#         pass "
   ]
  },
  {
   "cell_type": "code",
   "execution_count": 35,
   "metadata": {},
   "outputs": [],
   "source": [
    "# 위와 마찬가지\n",
    "filtered_id = [i for i, text in enumerate(standard_indices) if len(text) < 50]\n",
    "filtered_dialect_indices = [text for i, text in enumerate(dialect_indices) if i in filtered_id]"
   ]
  },
  {
   "cell_type": "code",
   "execution_count": 26,
   "metadata": {},
   "outputs": [
    {
     "data": {
      "text/plain": [
       "367955"
      ]
     },
     "execution_count": 26,
     "metadata": {},
     "output_type": "execute_result"
    }
   ],
   "source": [
    "len(standard_indices)"
   ]
  },
  {
   "cell_type": "code",
   "execution_count": 27,
   "metadata": {},
   "outputs": [
    {
     "data": {
      "text/plain": [
       "347963"
      ]
     },
     "execution_count": 27,
     "metadata": {},
     "output_type": "execute_result"
    }
   ],
   "source": [
    "len(filtered_dialect_indices)"
   ]
  },
  {
   "cell_type": "code",
   "execution_count": 28,
   "metadata": {},
   "outputs": [
    {
     "data": {
      "text/plain": [
       "list"
      ]
     },
     "execution_count": 28,
     "metadata": {},
     "output_type": "execute_result"
    }
   ],
   "source": [
    "type(standard_indices)"
   ]
  },
  {
   "cell_type": "code",
   "execution_count": 29,
   "metadata": {},
   "outputs": [
    {
     "data": {
      "text/plain": [
       "list"
      ]
     },
     "execution_count": 29,
     "metadata": {},
     "output_type": "execute_result"
    }
   ],
   "source": [
    "type(dialect_indices)"
   ]
  },
  {
   "cell_type": "code",
   "execution_count": 36,
   "metadata": {},
   "outputs": [
    {
     "data": {
      "image/png": "[encoded data removed]",
      "text/plain": [
       "<Figure size 640x480 with 1 Axes>"
      ]
     },
     "metadata": {},
     "output_type": "display_data"
    }
   ],
   "source": [
    "plt.hist([len(sentence) for sentence in filtered_standard_indices], bins=10)\n",
    "plt.xlabel('length of standard')\n",
    "plt.ylabel('number of standard')\n",
    "plt.show()"
   ]
  },
  {
   "cell_type": "code",
   "execution_count": 37,
   "metadata": {},
   "outputs": [
    {
     "data": {
      "image/png": "[encoded data removed]",
      "text/plain": [
       "<Figure size 640x480 with 1 Axes>"
      ]
     },
     "metadata": {},
     "output_type": "display_data"
    }
   ],
   "source": [
    "plt.hist([len(sentence) for sentence in filtered_dialect_indices], bins=10)\n",
    "plt.xlabel('length of standard')\n",
    "plt.ylabel('number of standard')\n",
    "plt.show()"
   ]
  },
  {
   "cell_type": "code",
   "execution_count": 85,
   "metadata": {},
   "outputs": [],
   "source": [
    "with open('standard_indices.csv', 'w', encoding='utf-8', newline='') as f:\n",
    "    writer = csv.writer(f)\n",
    "    writer.writerows(standard_indices)\n",
    "\n",
    "with open('dialect_indices.csv', 'w', encoding='utf-8', newline='') as f:\n",
    "    writer = csv.writer(f)\n",
    "    writer.writerows(dialect_indices)"
   ]
  },
  {
   "cell_type": "code",
   "execution_count": 84,
   "metadata": {},
   "outputs": [
    {
     "name": "stdout",
     "output_type": "stream",
     "text": [
      "standard padding 리스트의 최대 길이: 39\n",
      "dialect padding 리스트의 최대 길이: 39\n",
      "standard padding 리스트의 최소 길이: 1\n",
      "dialect padding 리스트의 최소 길이: 1\n"
     ]
    }
   ],
   "source": [
    "d_M_l = max(len(sentence) for sentence in dialect_indices)\n",
    "s_M_l = max(len(sentence) for sentence in standard_indices)\n",
    "d_m_l = min(len(sentence) for sentence in dialect_indices)\n",
    "s_m_l = min(len(sentence) for sentence in standard_indices)\n",
    "\n",
    "print(f\"standard padding 리스트의 최대 길이: {s_M_l}\")\n",
    "print(f\"dialect padding 리스트의 최대 길이: {d_M_l}\")\n",
    "print(f\"standard padding 리스트의 최소 길이: {s_m_l}\")\n",
    "print(f\"dialect padding 리스트의 최소 길이: {d_m_l}\")"
   ]
  },
  {
   "cell_type": "code",
   "execution_count": null,
   "metadata": {},
   "outputs": [],
   "source": [
    "# filtered_dialect_indices"
   ]
  },
  {
   "cell_type": "code",
   "execution_count": null,
   "metadata": {},
   "outputs": [],
   "source": [
    "# filtered_standard_indices"
   ]
  },
  {
   "cell_type": "code",
   "execution_count": 86,
   "metadata": {},
   "outputs": [],
   "source": [
    "dialect_padding = []\n",
    "standard_padding = []\n",
    "\n",
    "for sentence in dialect_indices:\n",
    "    # 작은 것은 0으로 제로 패딩\n",
    "    if len(sentence) <= 40:\n",
    "        padded_sentence = sentence + [0] * (40 - len(sentence))\n",
    "        dialect_padding.append(padded_sentence)\n",
    "\n",
    "for sentence in standard_indices:\n",
    "    if len(sentence) <= 40:\n",
    "        padded_sentence = sentence + [0] * (40 - len(sentence))\n",
    "        standard_padding.append(padded_sentence)"
   ]
  },
  {
   "cell_type": "code",
   "execution_count": 87,
   "metadata": {},
   "outputs": [
    {
     "name": "stdout",
     "output_type": "stream",
     "text": [
      "standard padding 리스트의 최대 길이: 40\n",
      "dialect padding 리스트의 최대 길이: 40\n",
      "standard padding 리스트의 최소 길이: 40\n",
      "dialect padding 리스트의 최소 길이: 40\n"
     ]
    }
   ],
   "source": [
    "d_M_l = max(len(sentence) for sentence in dialect_padding)\n",
    "s_M_l = max(len(sentence) for sentence in standard_padding)\n",
    "d_m_l = min(len(sentence) for sentence in dialect_padding)\n",
    "s_m_l = min(len(sentence) for sentence in standard_padding)\n",
    "\n",
    "print(f\"standard padding 리스트의 최대 길이: {s_M_l}\")\n",
    "print(f\"dialect padding 리스트의 최대 길이: {d_M_l}\")\n",
    "print(f\"standard padding 리스트의 최소 길이: {s_m_l}\")\n",
    "print(f\"dialect padding 리스트의 최소 길이: {d_m_l}\")"
   ]
  },
  {
   "cell_type": "code",
   "execution_count": 88,
   "metadata": {},
   "outputs": [],
   "source": [
    "# 정수화된 방언 문장 csv로 저장\n",
    "with open('dialect_padding_data.csv', 'w', newline='', encoding='utf-8') as csvfile:\n",
    "    writer = csv.writer(csvfile)\n",
    "    for indices in dialect_padding:\n",
    "        writer.writerow(indices)\n",
    "\n",
    "# 정수화된 표준어 문장 csv로 저장\n",
    "with open('standard_padding_data.csv', 'w', newline='', encoding='utf-8') as csvfile:\n",
    "    writer = csv.writer(csvfile)\n",
    "    for indices in standard_padding:\n",
    "        writer.writerow(indices)"
   ]
  },
  {
   "cell_type": "code",
   "execution_count": null,
   "metadata": {},
   "outputs": [],
   "source": [
    "dialect_padding"
   ]
  }
 ],
 "metadata": {
  "kernelspec": {
   "display_name": "Python 3",
   "language": "python",
   "name": "python3"
  },
  "language_info": {
   "codemirror_mode": {
    "name": "ipython",
    "version": 3
   },
   "file_extension": ".py",
   "mimetype": "text/x-python",
   "name": "python",
   "nbconvert_exporter": "python",
   "pygments_lexer": "ipython3",
   "version": "3.7.16"
  }
 },
 "nbformat": 4,
 "nbformat_minor": 2
}
