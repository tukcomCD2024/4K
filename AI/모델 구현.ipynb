{
 "cells": [
  {
   "cell_type": "code",
   "execution_count": 1,
   "metadata": {},
   "outputs": [],
   "source": [
    "import tensorflow as tf"
   ]
  },
  {
   "cell_type": "code",
   "execution_count": 2,
   "metadata": {},
   "outputs": [],
   "source": [
    "import pandas as pd\n",
    "import numpy as np\n",
    "import os\n",
    "import json\n",
    "import csv\n",
    "from tqdm import tqdm "
   ]
  },
  {
   "cell_type": "code",
   "execution_count": 3,
   "metadata": {},
   "outputs": [],
   "source": [
    "# 사전 데이터 불러오기\n",
    "word_to_id = pd.read_csv(\"word_to_id.csv\", encoding='utf-8')\n",
    "id_to_word = pd.read_csv(\"id_to_word.csv\", encoding='utf-8')\n",
    "\n",
    "# 정수화된 문장 데이터 불러오기\n",
    "standard_data = pd.read_csv(\"standard_padding.csv\", encoding='utf-8')\n",
    "dialect_data = pd.read_csv(\"dialect_padding.csv\", encoding='utf-8')"
   ]
  },
  {
   "cell_type": "code",
   "execution_count": 4,
   "metadata": {},
   "outputs": [],
   "source": [
    "import matplotlib.pyplot as plt\n",
    "from sklearn.preprocessing import MinMaxScaler\n",
    "\n",
    "from tensorflow.keras import layers\n",
    "from tensorflow.keras.models import Model\n",
    "from sklearn.metrics import accuracy_score, precision_score, recall_score\n",
    "from sklearn.model_selection import train_test_split"
   ]
  },
  {
   "cell_type": "code",
   "execution_count": 6,
   "metadata": {},
   "outputs": [],
   "source": [
    "# tensorflow 같은 딥러닝 프레임워크는 주로 numpt 배열을 입력으로 받음\n",
    "# 때문에 values 속성 사용해 Pandas 데이터프레임을 Numpy 배열로 변환\n",
    "input_sequences = dialect_data.values\n",
    "output_sequences = standard_data.values"
   ]
  }
 ],
 "metadata": {
  "kernelspec": {
   "display_name": "new_thing",
   "language": "python",
   "name": "python3"
  },
  "language_info": {
   "codemirror_mode": {
    "name": "ipython",
    "version": 3
   },
   "file_extension": ".py",
   "mimetype": "text/x-python",
   "name": "python",
   "nbconvert_exporter": "python",
   "pygments_lexer": "ipython3",
   "version": "3.7.16"
  }
 },
 "nbformat": 4,
 "nbformat_minor": 2
}
