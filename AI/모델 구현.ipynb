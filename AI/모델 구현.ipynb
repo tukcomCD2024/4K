{
 "cells": [
  {
   "cell_type": "code",
   "execution_count": 1,
   "metadata": {},
   "outputs": [],
   "source": [
    "import tensorflow as tf"
   ]
  },
  {
   "cell_type": "code",
   "execution_count": 2,
   "metadata": {},
   "outputs": [],
   "source": [
    "import pandas as pd\n",
    "import numpy as np\n",
    "import os\n",
    "import json\n",
    "import csv\n",
    "from tqdm import tqdm "
   ]
  },
  {
   "cell_type": "code",
   "execution_count": 3,
   "metadata": {},
   "outputs": [],
   "source": [
    "# 사전 데이터 불러오기\n",
    "word_to_id = pd.read_csv(\"word_to_id.csv\", encoding='utf-8')\n",
    "id_to_word = pd.read_csv(\"id_to_word.csv\", encoding='utf-8')\n",
    "\n",
    "# 정수화된 문장 데이터 불러오기\n",
    "standard_data = pd.read_csv(\"standard_padding.csv\", encoding='utf-8')\n",
    "dialect_data = pd.read_csv(\"dialect_padding.csv\", encoding='utf-8')"
   ]
  },
  {
   "cell_type": "code",
   "execution_count": 4,
   "metadata": {},
   "outputs": [],
   "source": [
    "import matplotlib.pyplot as plt\n",
    "from sklearn.preprocessing import MinMaxScaler\n",
    "\n",
    "from tensorflow.keras import layers\n",
    "from tensorflow.keras.models import Model\n",
    "from sklearn.metrics import accuracy_score, precision_score, recall_score\n",
    "from sklearn.model_selection import train_test_split"
   ]
  },
  {
   "cell_type": "code",
   "execution_count": 6,
   "metadata": {},
   "outputs": [],
   "source": [
    "# tensorflow 같은 딥러닝 프레임워크는 주로 numpt 배열을 입력으로 받음\n",
    "# 때문에 values 속성 사용해 Pandas 데이터프레임을 Numpy 배열로 변환\n",
    "input_sequences = dialect_data.values\n",
    "output_sequences = standard_data.values"
   ]
  },
  {
   "cell_type": "code",
   "execution_count": 9,
   "metadata": {},
   "outputs": [],
   "source": [
    "# 모델 구성\n",
    "# 임베딩 레이어: 단어를 밀집된 벡터로 변환\n",
    "# 첫번째 LSTM 레이어: 데이터의 패턴을 학습\n",
    "# RepactVector 레이어: 출력 시퀀스의 길이만큼 입력을 반복\n",
    "# 두번째 LSTM 레이어: 첫번째 LSTM 레이어와 마찬가지로 패턴을 학습\n",
    "# Dense 레이어: 단어 사전의 크기에 따라 출력 크기 설정하고, softmax 함수 사용해 확률 분포 출력\n",
    "model = tf.keras.Sequential([\n",
    "    tf.keras.layers.Embedding(len(word_to_id) + 1, 256, input_length=input_sequences.shape[1]),\n",
    "    tf.keras.layers.LSTM(256),\n",
    "    tf.keras.layers.RepeatVector(output_sequences.shape[1]),\n",
    "    tf.keras.layers.LSTM(256, return_sequences=True),\n",
    "    tf.keras.layers.Dense(len(word_to_id) + 1, activation='softmax')\n",
    "])"
   ]
  },
  {
   "cell_type": "code",
   "execution_count": 10,
   "metadata": {},
   "outputs": [],
   "source": [
    "# 모델 compile\n",
    "# 모델이 훈련 가능한 상태가 되도록 하는 것\n",
    "# optimizer는 학습률을 조절해 최적화하는 방법이며 adam은 RMSProp과 Momentum 방식을 결합한 방식\n",
    "# Loss function은 손실 값을 측정하는 방법이며 여기서는 훈련 데이터의 라벨 값이 정수이므로 sparse_categorical_crossentropy 사용\n",
    "model.compile(optimizer='adam', loss='sparse_categorical_crossentropy')"
   ]
  }
 ],
 "metadata": {
  "kernelspec": {
   "display_name": "new_thing",
   "language": "python",
   "name": "python3"
  },
  "language_info": {
   "codemirror_mode": {
    "name": "ipython",
    "version": 3
   },
   "file_extension": ".py",
   "mimetype": "text/x-python",
   "name": "python",
   "nbconvert_exporter": "python",
   "pygments_lexer": "ipython3",
   "version": "3.7.16"
  }
 },
 "nbformat": 4,
 "nbformat_minor": 2
}
