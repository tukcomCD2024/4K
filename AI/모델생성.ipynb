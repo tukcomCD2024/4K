{
 "cells": [
  {
   "cell_type": "code",
   "execution_count": 4,
   "metadata": {},
   "outputs": [],
   "source": [
    "import pandas as pd\n",
    "import numpy as np\n",
    "import os\n",
    "import json\n",
    "import csv\n",
    "\n",
    "TL_sentence_path = r'C:\\Users\\edcrf\\sentence_dataTL.csv'\n",
    "VL_sentence_path = r'C:\\Users\\edcrf\\sentence_dataVL.csv'\n",
    "\n",
    "# data파일 불러오기\n",
    "TL_sentence_data = pd.read_csv(TL_sentence_path, encoding='utf-8')\n",
    "VL_sentence_data = pd.read_csv(VL_sentence_path, encoding='utf-8')\n",
    "\n",
    "# 중복 제거, Pronuncication 열은 필요 없다고 생각\n",
    "TL_sentence_data.drop('Pronunciation', axis=1, inplace=True)\n",
    "TL_sentence_data = TL_sentence_data.drop_duplicates().reset_index(drop=True)\n",
    "VL_sentence_data.drop('Pronunciation', axis=1, inplace=True)\n",
    "VL_sentence_data = VL_sentence_data.drop_duplicates().reset_index(drop=True)"
   ]
  },
  {
   "cell_type": "code",
   "execution_count": 5,
   "metadata": {},
   "outputs": [],
   "source": [
    "# 형태소 분석기로 Okt를 사용\n",
    "import konlpy\n",
    "from konlpy.tag import Kkma, Komoran, Okt, Hannanum\n",
    "okt = Okt()\n",
    "\n",
    "standard_sentences = TL_sentence_data['Standard']\n",
    "dialect_sentences = TL_sentence_data['Dialect']"
   ]
  },
  {
   "cell_type": "code",
   "execution_count": 68,
   "metadata": {},
   "outputs": [
    {
     "name": "stderr",
     "output_type": "stream",
     "text": [
      "100%|██████████| 323371/323371 [28:20<00:00, 190.18it/s]\n"
     ]
    }
   ],
   "source": [
    "from tqdm import tqdm\n",
    "\n",
    "# 방언 문장과 표준어 문장 각각 형태소 분석 진행\n",
    "standard_okt = []\n",
    "dialect_okt = []\n",
    "\n",
    "for i in tqdm(range(0, len(TL_sentence_data))):\n",
    "    standard_okt.append(okt.morphs(standard_sentences[i]))\n",
    "    dialect_okt.append(okt.morphs(dialect_sentences[i]))"
   ]
  },
  {
   "cell_type": "code",
   "execution_count": 79,
   "metadata": {},
   "outputs": [],
   "source": [
    "# 토큰화된 방언 문장과 표준어 문장을 각각 csv파일로 저장\n",
    "with open('st_okt.csv', 'w', encoding='utf-8', newline='') as f:\n",
    "    writer = csv.writer(f)\n",
    "    writer.writerows(standard_okt)\n",
    "\n",
    "with open('di_okt.csv', 'w', encoding='utf-8', newline='') as f:\n",
    "    writer = csv.writer(f)\n",
    "    writer.writerows(dialect_okt)"
   ]
  },
  {
   "cell_type": "code",
   "execution_count": 74,
   "metadata": {},
   "outputs": [],
   "source": [
    "# # csv저장을 위해 리스트를 DataFrame으로 변환\n",
    "# standard_okt_df = pd.DataFrame(standard_okt)\n",
    "# dialect_okt_df = pd.DataFrame(dialect_okt)\n",
    "\n",
    "# standard_okt_df.to_csv(r'C:\\Users\\edcrf\\standard_okt.csv', index=False, sep =',')\n",
    "# dialect_okt_df.to_csv(r'C:\\Users\\edcrf\\dialect_okt.csv', index=False, sep =',')"
   ]
  },
  {
   "cell_type": "code",
   "execution_count": null,
   "metadata": {},
   "outputs": [],
   "source": [
    "# # csv파일로 저장한 토큰화된 결과 불러오기\n",
    "# standard_okt_data = pd.read_csv(r'C:\\Users\\edcrf\\standard_okt.csv')\n",
    "# dialect_okt_data = pd.read_csv(r'C:\\Users\\edcrf\\dialect_okt.csv')"
   ]
  },
  {
   "cell_type": "code",
   "execution_count": 8,
   "metadata": {},
   "outputs": [],
   "source": [
    "# 저장된 토큰화 데이터 불러오기\n",
    "standard_okt_data = []\n",
    "dialect_okt_data = []\n",
    "\n",
    "with open('st_okt.csv', 'r', encoding='utf-8') as f:\n",
    "    reader = csv.reader(f)\n",
    "    for row in reader:\n",
    "        standard_okt_data.append(row)\n",
    "\n",
    "with open('di_okt.csv', 'r', encoding='utf-8') as f:\n",
    "    reader = csv.reader(f)\n",
    "    for row in reader:\n",
    "        dialect_okt_data.append(row)"
   ]
  }
 ],
 "metadata": {
  "kernelspec": {
   "display_name": "Python 3",
   "language": "python",
   "name": "python3"
  },
  "language_info": {
   "codemirror_mode": {
    "name": "ipython",
    "version": 3
   },
   "file_extension": ".py",
   "mimetype": "text/x-python",
   "name": "python",
   "nbconvert_exporter": "python",
   "pygments_lexer": "ipython3",
   "version": "3.12.1"
  }
 },
 "nbformat": 4,
 "nbformat_minor": 2
}
