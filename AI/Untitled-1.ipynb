{
 "cells": [
  {
   "cell_type": "code",
   "execution_count": 12,
   "metadata": {},
   "outputs": [],
   "source": [
    "import glob\n",
    "import os\n",
    "import json\n",
    "import numpy as np\n",
    "\n",
    "# 폴더 이름\n",
    "train_folder_name = '강원도_학습데이터'\n",
    "validation_folder_name = '강원도_검증데이터'\n",
    "\n",
    "# JSON 파일들의 경로를 찾기 위한 패턴\n",
    "train_json_pattern = os.path.join(train_folder_name, '*.json')\n",
    "validation_json_pattern = os.path.join(validation_folder_name, '*.json')\n",
    "\n",
    "train_json_files = glob.glob(train_json_pattern)\n",
    "validation_json_files = glob.glob(validation_json_pattern)"
   ]
  },
  {
   "cell_type": "code",
   "execution_count": null,
   "metadata": {},
   "outputs": [],
   "source": [
    "## 학습 데이터 파일 \n",
    "print(\"학습 데이터 파일\")\n",
    "for file in train_json_files:\n",
    "    print(file)\n",
    "print('-'*30)\n",
    "\n",
    "## 검증 데이터 파일\n",
    "print(\"검증 데이터 파일\")\n",
    "for file in validation_json_files:\n",
    "    print(file)"
   ]
  },
  {
   "cell_type": "code",
   "execution_count": 23,
   "metadata": {},
   "outputs": [
    {
     "name": "stdout",
     "output_type": "stream",
     "text": [
      "4717\n",
      "828\n"
     ]
    }
   ],
   "source": [
    "print(len(train_json_files))\n",
    "print(len(validation_json_files))"
   ]
  },
  {
   "cell_type": "code",
   "execution_count": 19,
   "metadata": {},
   "outputs": [],
   "source": [
    "train_data_dialect = []\n",
    "train_data_standard = []\n",
    "for file in train_json_files:\n",
    "    with open(file, 'r', encoding='utf-8') as f:\n",
    "        data = json.load(f)\n",
    "        \n",
    "    dialect_sentences = [utterance['dialect_form'] for utterance in data['utterance']]\n",
    "    standard_sentences = [utterance['standard_form'] for utterance in data['utterance']]\n",
    "\n",
    "    train_data_dialect.append(dialect_sentences)\n",
    "    train_data_standard.append(standard_sentences)"
   ]
  },
  {
   "cell_type": "code",
   "execution_count": 33,
   "metadata": {},
   "outputs": [],
   "source": [
    "all_train_dialect = []\n",
    "all_train_standard = []\n",
    "for data_list in train_data_dialect:\n",
    "    for data in data_list:\n",
    "        all_train_dialect.append(data)\n",
    "\n",
    "for data_list in train_data_standard:\n",
    "    for data in data_list:\n",
    "        all_train_standard.append(data)\n"
   ]
  },
  {
   "cell_type": "code",
   "execution_count": 36,
   "metadata": {},
   "outputs": [
    {
     "name": "stdout",
     "output_type": "stream",
     "text": [
      "1573237\n",
      "1573237\n"
     ]
    }
   ],
   "source": [
    "print(len(all_train_dialect))\n",
    "print(len(all_train_standard))\n"
   ]
  }
 ],
 "metadata": {
  "kernelspec": {
   "display_name": "new_thing",
   "language": "python",
   "name": "python3"
  },
  "language_info": {
   "codemirror_mode": {
    "name": "ipython",
    "version": 3
   },
   "file_extension": ".py",
   "mimetype": "text/x-python",
   "name": "python",
   "nbconvert_exporter": "python",
   "pygments_lexer": "ipython3",
   "version": "3.7.16"
  }
 },
 "nbformat": 4,
 "nbformat_minor": 2
}
